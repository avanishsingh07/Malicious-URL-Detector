{
 "cells": [
  {
   "cell_type": "code",
   "execution_count": 1,
   "id": "2fe806ae",
   "metadata": {},
   "outputs": [
    {
     "name": "stdout",
     "output_type": "stream",
     "text": [
      "Writing url_detector1.py\n"
     ]
    }
   ],
   "source": [
    "%%writefile url_detector1.py\n",
    "import streamlit as st\n",
    "import matplotlib.pyplot as plt \n",
    "import matplotlib\n",
    "matplotlib.use(\"Agg\")\n",
    "import random\n",
    "import seaborn as sns\n",
    "import pandas as pd \n",
    "import numpy as np\n",
    "from sklearn.feature_extraction.text import CountVectorizer\n",
    "from sklearn.model_selection import train_test_split\n",
    "from sklearn.feature_extraction.text import TfidfVectorizer\n",
    "from sklearn.linear_model import LogisticRegression\n",
    "\n",
    "st.title('Malicious URL Detector')\n",
    "def getTokens(input):\n",
    "    tokens = str(input.encode('utf-8')).split('/')\n",
    "    alltokens=[]\n",
    "    for i in tokens:\n",
    "        tok=str(i).split('-')\n",
    "        tokensbyDot=[]\n",
    "        for j in range(0,len(tok)):\n",
    "            tempToken=str(tok[j]).split('.')\n",
    "            tokensbyDot=tokensbyDot+tempToken\n",
    "        alltokens = alltokens+tok+tokensbyDot\n",
    "    alltokens=list(set(alltokens))\n",
    "    if 'com' in alltokens:\n",
    "        alltokens.remove('com')\n",
    "    return alltokens\n",
    "def TL():\n",
    "    allurlsdata = pd.read_csv('allurl.csv')\n",
    "\n",
    "    allurlsdata = np.array(allurlsdata)\n",
    "    random.shuffle(allurlsdata)\n",
    "    y = [d[1] for d in allurlsdata]\n",
    "    corpus = [d[0] for d in allurlsdata]\n",
    "    vectorizer = TfidfVectorizer(tokenizer=getTokens)\n",
    "    X = vectorizer.fit_transform(corpus)\n",
    "\n",
    "    X_train, X_test, y_train, y_test = train_test_split(X, y, test_size=0.3, random_state=42)\n",
    "\n",
    "    lgs = LogisticRegression()\n",
    "    lgs.fit(X_train, y_train)\n",
    "    return vectorizer,lgs\n",
    "def output(inputText):\n",
    "    X_pred = []\n",
    "    X_pred.append(inputText)\n",
    "    vectorizer,lgs = TL()\n",
    "    X_pred = vectorizer.transform(X_pred)\n",
    "    X_Pred = lgs.predict(X_pred)\n",
    "    return X_Pred\n",
    "\n",
    "if __name__ == \"__main__\":\n",
    "    #print(\"Please enter the url\\n\")\n",
    "    text=st.text_area(\"Please enter the url\")\n",
    "    st.subheader(output(text))\n",
    "    \n"
   ]
  },
  {
   "cell_type": "code",
   "execution_count": null,
   "id": "f1686709",
   "metadata": {},
   "outputs": [],
   "source": [
    "!streamlit run url_detector1.py"
   ]
  },
  {
   "cell_type": "code",
   "execution_count": null,
   "id": "f869ee9a",
   "metadata": {},
   "outputs": [],
   "source": []
  }
 ],
 "metadata": {
  "kernelspec": {
   "display_name": "Python 3 (ipykernel)",
   "language": "python",
   "name": "python3"
  },
  "language_info": {
   "codemirror_mode": {
    "name": "ipython",
    "version": 3
   },
   "file_extension": ".py",
   "mimetype": "text/x-python",
   "name": "python",
   "nbconvert_exporter": "python",
   "pygments_lexer": "ipython3",
   "version": "3.8.8"
  }
 },
 "nbformat": 4,
 "nbformat_minor": 5
}
